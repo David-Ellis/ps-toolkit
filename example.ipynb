{
 "cells": [
  {
   "cell_type": "markdown",
   "metadata": {},
   "source": [
    "# Example notebook"
   ]
  },
  {
   "cell_type": "code",
   "execution_count": 24,
   "metadata": {},
   "outputs": [],
   "source": [
    "import numpy as np\n",
    "import matplotlib.pyplot as plt\n",
    "import matplotlib\n",
    "matplotlib.rcParams['mathtext.fontset'] = 'stix'\n",
    "matplotlib.rcParams['font.family'] = 'STIXGeneral'\n",
    "matplotlib.rc('font', size=16)\n",
    "\n",
    "import ps_toolkit.hmf as hmf"
   ]
  },
  {
   "cell_type": "code",
   "execution_count": null,
   "metadata": {},
   "outputs": [],
   "source": [
    "# load power-spectrum\n",
    "k, P, _, _= np.loadtxt(\"PS.dat\").T\n",
    "pspec_lin = [P, k]\n",
    "\n",
    "HMF_PS, M, f_PS, sigma, _ = hmf.PS_HMF(P, k, z=99, mode = 'PS')\n",
    "\n",
    "# Plot powerspectrum\n",
    "fig = plt.figure(figsize = (8,6))\n",
    "ax1 = fig.add_subplot(221)\n",
    "ax1.loglog(k, P, '--',lw=2)\n",
    "ax1.set_xlabel(\"k [h Mpc$^{-1}$]\");\n",
    "ax1.set_ylabel(\"P(k) [h$^{-3}$ Mpc$^{3}$]\");\n",
    "\n",
    "# Plot Mass Varience\n",
    "ax2 = fig.add_subplot(222)\n",
    "ax2.loglog(M, sigma,'-',linewidth=2)\n",
    "ax2.set_ylabel(\"Mass Varience $\\sigma(R)$ [h$^2$]\");\n",
    "ax2.set_xlabel(\"M [$M_{\\odot}$]\");\n",
    "#ax2.set_xlim([1e-21, 1e-7])\n",
    "plt.tight_layout()\n",
    "\n",
    "# Plot HMF\n",
    "ax3 = fig.add_subplot(212)\n",
    "ax3.loglog(M, HMF_PS,'-',linewidth=2)\n",
    "ax3.set_xlabel(r\"Mass, $M$ [$M_\\odot$]\");\n",
    "ax3.set_ylabel(r\"$\\mathrm{d}n/\\mathrm{d }\\log_{10}(M)$ [$h^3$ Mpc$^{-3}$]\");\n",
    "ax3.set_ylim([1e4, 1e30])\n",
    "ax3.set_xlim([1e-23, 1e-5])\n",
    "plt.tight_layout()"
   ]
  },
  {
   "cell_type": "code",
   "execution_count": null,
   "metadata": {},
   "outputs": [],
   "source": []
  }
 ],
 "metadata": {
  "kernelspec": {
   "display_name": "Python 3",
   "language": "python",
   "name": "python3"
  },
  "language_info": {
   "codemirror_mode": {
    "name": "ipython",
    "version": 3
   },
   "file_extension": ".py",
   "mimetype": "text/x-python",
   "name": "python",
   "nbconvert_exporter": "python",
   "pygments_lexer": "ipython3",
   "version": "3.7.6"
  }
 },
 "nbformat": 4,
 "nbformat_minor": 4
}
